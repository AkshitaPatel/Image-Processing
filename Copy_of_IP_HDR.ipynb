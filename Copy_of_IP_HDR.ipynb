{
  "nbformat": 4,
  "nbformat_minor": 0,
  "metadata": {
    "colab": {
      "name": "Copy of IP HDR.ipynb",
      "provenance": [],
      "collapsed_sections": [],
      "include_colab_link": true
    },
    "kernelspec": {
      "name": "python3",
      "display_name": "Python 3"
    },
    "language_info": {
      "name": "python"
    },
    "accelerator": "GPU"
  },
  "cells": [
    {
      "cell_type": "markdown",
      "metadata": {
        "id": "view-in-github",
        "colab_type": "text"
      },
      "source": [
        "<a href=\"https://colab.research.google.com/github/AkshitaPatel/Image-Processing/blob/main/Copy_of_IP_HDR.ipynb\" target=\"_parent\"><img src=\"https://colab.research.google.com/assets/colab-badge.svg\" alt=\"Open In Colab\"/></a>"
      ]
    },
    {
      "cell_type": "code",
      "execution_count": null,
      "metadata": {
        "colab": {
          "base_uri": "https://localhost:8080/"
        },
        "id": "XsSJ89-RDxB_",
        "outputId": "4fa4f841-2c4c-461d-a261-577dab492152"
      },
      "outputs": [
        {
          "output_type": "stream",
          "name": "stdout",
          "text": [
            "Drive already mounted at /content/gdrive; to attempt to forcibly remount, call drive.mount(\"/content/gdrive\", force_remount=True).\n"
          ]
        }
      ],
      "source": [
        "from google.colab import drive\n",
        "drive.mount(\"/content/gdrive\")"
      ]
    },
    {
      "cell_type": "code",
      "source": [
        "import cv2\n",
        "import numpy as np"
      ],
      "metadata": {
        "id": "dtdD9Bq7D-C-"
      },
      "execution_count": null,
      "outputs": []
    },
    {
      "cell_type": "code",
      "source": [
        "from PIL import Image\n",
        "from PIL.ExifTags import TAGS"
      ],
      "metadata": {
        "id": "lHBwOOavEBXo"
      },
      "execution_count": null,
      "outputs": []
    },
    {
      "cell_type": "code",
      "source": [
        "image_bright4 = Image.open('/content/gdrive/MyDrive/HDR Samples/sunset/bright4.jpg')\n",
        "image_bright3 = Image.open('/content/gdrive/MyDrive/HDR Samples/sunset/bright3.jpg')\n",
        "image_bright2 = Image.open('/content/gdrive/MyDrive/HDR Samples/sunset/bright2.jpg')\n",
        "image_bright1 = Image.open('/content/gdrive/MyDrive/HDR Samples/sunset/bright1.jpg')\n",
        "image_dark4 = Image.open('/content/gdrive/MyDrive/HDR Samples/sunset/dark4.jpg')\n",
        "image_dark3 = Image.open('/content/gdrive/MyDrive/HDR Samples/sunset/dark3.jpg')\n",
        "image_dark2 = Image.open('/content/gdrive/MyDrive/HDR Samples/sunset/dark2.jpg')\n",
        "image_dark1 = Image.open('/content/gdrive/MyDrive/HDR Samples/sunset/dark1.jpg')\n",
        "image_normal = Image.open('/content/gdrive/MyDrive/HDR Samples/sunset/normal.jpg')\n",
        "img_list = [image_bright4,image_bright3,image_bright2,image_bright1,image_normal,image_dark4,image_dark3,image_dark2,image_dark1]"
      ],
      "metadata": {
        "id": "NyMcHTC3Efee"
      },
      "execution_count": null,
      "outputs": []
    },
    {
      "cell_type": "code",
      "source": [
        "building_bright1 = Image.open('/content/gdrive/MyDrive/HDR Samples/drone/bright1.jpg')\n",
        "building_bright2 = Image.open('/content/gdrive/MyDrive/HDR Samples/drone/bright2.jpg')\n",
        "building_dark1 = Image.open('/content/gdrive/MyDrive/HDR Samples/drone/dark1.jpg')\n",
        "building_dark2 = Image.open('/content/gdrive/MyDrive/HDR Samples/drone/dark2.jpg')\n",
        "building_normal = Image.open('/content/gdrive/MyDrive/HDR Samples/drone/normal.jpg')\n",
        "building_img_list = [building_bright1,building_bright2,building_normal,building_dark1,building_dark2]\n"
      ],
      "metadata": {
        "id": "iCEZUV5oFeq3"
      },
      "execution_count": null,
      "outputs": []
    },
    {
      "cell_type": "markdown",
      "source": [
        "Reading Shutter Speed of the Images"
      ],
      "metadata": {
        "id": "_4sNfSrJJUlP"
      }
    },
    {
      "cell_type": "code",
      "source": [
        "shutter_speeds = []\n",
        "for img in img_list:\n",
        "  exifdata = img.getexif()\n",
        "  temp = exifdata.get(33434)\n",
        "  shutter_speeds.append(temp[0]/temp[1])\n"
      ],
      "metadata": {
        "id": "ybD2-6oDKNm2"
      },
      "execution_count": null,
      "outputs": []
    },
    {
      "cell_type": "code",
      "source": [
        "building_ss = []\n",
        "for img in building_img_list:\n",
        "  exifdata = img.getexif()\n",
        "  temp = exifdata.get(33434)\n",
        "  building_ss.append(temp[0]/temp[1])"
      ],
      "metadata": {
        "id": "0zbOFSw8GBb9"
      },
      "execution_count": null,
      "outputs": []
    },
    {
      "cell_type": "code",
      "source": [
        "exposure_times = np.array(shutter_speeds, dtype=np.float32)"
      ],
      "metadata": {
        "id": "cK9g3xvXK38S"
      },
      "execution_count": null,
      "outputs": []
    },
    {
      "cell_type": "code",
      "source": [
        "building_exposure_times = np.array(building_ss, dtype=np.float32)"
      ],
      "metadata": {
        "id": "barOIQx2GO6L"
      },
      "execution_count": null,
      "outputs": []
    },
    {
      "cell_type": "code",
      "source": [
        "img_bright4 = cv2.imread('/content/gdrive/MyDrive/HDR Samples/sunset/bright4.jpg')\n",
        "img_bright3 = cv2.imread('/content/gdrive/MyDrive/HDR Samples/sunset/bright3.jpg')\n",
        "img_bright2 = cv2.imread('/content/gdrive/MyDrive/HDR Samples/sunset/bright2.jpg')\n",
        "img_bright1 = cv2.imread('/content/gdrive/MyDrive/HDR Samples/sunset/bright1.jpg')\n",
        "img_dark4 = cv2.imread('/content/gdrive/MyDrive/HDR Samples/sunset/dark4.jpg')\n",
        "img_dark3 = cv2.imread('/content/gdrive/MyDrive/HDR Samples/sunset/dark3.jpg')\n",
        "img_dark2 = cv2.imread('/content/gdrive/MyDrive/HDR Samples/sunset/dark2.jpg')\n",
        "img_dark1 = cv2.imread('/content/gdrive/MyDrive/HDR Samples/sunset/dark1.jpg')\n",
        "img_normal = cv2.imread('/content/gdrive/MyDrive/HDR Samples/sunset/normal.jpg')\n",
        "image_list = [img_bright4,img_bright3,img_bright2,img_bright1,img_normal,img_dark4,img_dark3,img_dark2,img_dark1]"
      ],
      "metadata": {
        "id": "njtdh4xuVi0r"
      },
      "execution_count": null,
      "outputs": []
    },
    {
      "cell_type": "code",
      "source": [
        "building_img_bright1 = cv2.imread('/content/gdrive/MyDrive/HDR Samples/bright1.jpg')\n",
        "building_img_bright2 = cv2.imread('/content/gdrive/MyDrive/HDR Samples/bright2.jpg')\n",
        "building_img_dark1 = cv2.imread('/content/gdrive/MyDrive/HDR Samples/dark1.jpg')\n",
        "building_img_dark2 = cv2.imread('/content/gdrive/MyDrive/HDR Samples/dark2.jpg')\n",
        "building_img_normal = cv2.imread('/content/gdrive/MyDrive/HDR Samples/normal.jpg')\n",
        "building_image_list = [building_img_bright1,building_img_bright2,building_img_normal,building_img_dark1,building_img_dark2]"
      ],
      "metadata": {
        "id": "6iY8R3ApGWkR"
      },
      "execution_count": null,
      "outputs": []
    },
    {
      "cell_type": "code",
      "source": [
        "alignMTB = cv2.createAlignMTB()\n",
        "alignMTB.process(image_list, image_list)\n"
      ],
      "metadata": {
        "id": "nJSD9ofQYM8L"
      },
      "execution_count": null,
      "outputs": []
    },
    {
      "cell_type": "code",
      "source": [
        "#alignMTB.process(building_image_list,building_image_list)"
      ],
      "metadata": {
        "id": "AQk2qUJDGrPM"
      },
      "execution_count": null,
      "outputs": []
    },
    {
      "cell_type": "code",
      "source": [
        "merge_debevec = cv2.createMergeDebevec()\n",
        "hdr_debevec = merge_debevec.process(image_list, times=exposure_times.copy())"
      ],
      "metadata": {
        "id": "1kK7KCsEUnZl"
      },
      "execution_count": null,
      "outputs": []
    },
    {
      "cell_type": "code",
      "source": [
        "hdr_debevec_1 = merge_debevec.process(building_image_list, times=building_exposure_times.copy())"
      ],
      "metadata": {
        "id": "_d8G_O0IHOF6"
      },
      "execution_count": null,
      "outputs": []
    },
    {
      "cell_type": "markdown",
      "source": [
        "Tone Mapping"
      ],
      "metadata": {
        "id": "hiiVx6HBgaaL"
      }
    },
    {
      "cell_type": "code",
      "source": [
        "tonemap1 = cv2.createTonemap(gamma=2.2)\n",
        "res_debevec = tonemap1.process(hdr_debevec.copy())"
      ],
      "metadata": {
        "id": "lkxhZtxoXB88"
      },
      "execution_count": null,
      "outputs": []
    },
    {
      "cell_type": "code",
      "source": [
        "res_debevec_building = tonemap1.process(hdr_debevec_1.copy())"
      ],
      "metadata": {
        "id": "c4hQvy4tHhJJ"
      },
      "execution_count": null,
      "outputs": []
    },
    {
      "cell_type": "code",
      "source": [
        "res_debevec_8bit = np.clip(res_debevec*255, 0, 255).astype('uint8')\n",
        "cv2.imwrite(\"ldr_debevec.jpg\", res_debevec_8bit)"
      ],
      "metadata": {
        "id": "EPn7qUXOXNwh"
      },
      "execution_count": null,
      "outputs": []
    },
    {
      "cell_type": "code",
      "source": [
        "res_debevec_8bit_building = np.clip(res_debevec_building*255, 0, 255).astype('uint8')\n",
        "cv2.imwrite(\"ldr_debevec_building.jpg\", res_debevec_8bit_building)"
      ],
      "metadata": {
        "id": "eNxzsGO_HmdW"
      },
      "execution_count": null,
      "outputs": []
    },
    {
      "cell_type": "code",
      "source": [
        "tonemapDrago = cv2.createTonemapDrago(1.2, 1)\n",
        "#adjusting the 2nd parameter adjusts the contrast\n",
        "ldrDrago = tonemapDrago.process(hdr_debevec)\n",
        "cv2.imwrite(\"ldr-Drago.jpg\", ldrDrago * 255)\n"
      ],
      "metadata": {
        "id": "YtUkyo9Mgxp1"
      },
      "execution_count": null,
      "outputs": []
    },
    {
      "cell_type": "code",
      "source": [
        "tonemapDrago_building = cv2.createTonemapDrago(1.0, 0.5)\n",
        "ldrDrago_building = tonemapDrago.process(hdr_debevec_1)\n",
        "cv2.imwrite(\"ldr-Drago-building.jpg\", ldrDrago_building * 255)\n"
      ],
      "metadata": {
        "id": "01DFauj-H6yL"
      },
      "execution_count": null,
      "outputs": []
    },
    {
      "cell_type": "code",
      "source": [
        "tonemapReinhard = cv2.createTonemapReinhard(1, 2,0,1)\n",
        "ldrReinhard = tonemapReinhard.process(hdr_debevec)\n",
        "cv2.imwrite(\"ldr-Reinhard.jpg\", ldrReinhard * 255)\n"
      ],
      "metadata": {
        "id": "zbb47tBcIoZl"
      },
      "execution_count": null,
      "outputs": []
    },
    {
      "cell_type": "code",
      "source": [
        "#auto contrast\n",
        "ldr_image = cv2.imread('/content/gdrive/MyDrive/HDR Samples/building/ldr.jpg')\n",
        "alpha = 1.1\n",
        "beta = 0\n",
        "auto_contrast_image = cv2.convertScaleAbs(ldr_image, alpha=alpha, beta=beta)\n",
        "cv2.imwrite(\"auto-contrast.jpg\", auto_contrast_image)"
      ],
      "metadata": {
        "id": "oOYxplGAKkga"
      },
      "execution_count": null,
      "outputs": []
    },
    {
      "cell_type": "code",
      "source": [
        ""
      ],
      "metadata": {
        "id": "rpIbupxSYaOc"
      },
      "execution_count": null,
      "outputs": []
    }
  ]
}
{
 "cells": [
  {
   "cell_type": "code",
   "execution_count": 3,
   "metadata": {
    "colab": {
     "base_uri": "https://localhost:8080/"
    },
    "id": "XsSJ89-RDxB_",
    "outputId": "e1ef6379-99e4-4d22-d9fb-2563ea10d624"
   },
   "outputs": [
    {
     "name": "stdout",
     "output_type": "stream",
     "text": [
      "Collecting opencv-python\n",
      "  Downloading opencv_python-4.5.5.64-cp36-abi3-macosx_10_15_x86_64.whl (46.3 MB)\n",
      "\u001b[K     |████████████████████████████████| 46.3 MB 5.6 MB/s eta 0:00:01\n",
      "\u001b[?25hRequirement already satisfied: numpy>=1.17.3 in /opt/homebrew/anaconda3/lib/python3.9/site-packages (from opencv-python) (1.20.3)\n",
      "Installing collected packages: opencv-python\n",
      "Successfully installed opencv-python-4.5.5.64\n",
      "Note: you may need to restart the kernel to use updated packages.\n"
     ]
    }
   ],
   "source": [
    "pip install opencv-python"
   ]
  },
  {
   "cell_type": "code",
   "execution_count": 4,
   "metadata": {
    "id": "dtdD9Bq7D-C-"
   },
   "outputs": [],
   "source": [
    "import cv2\n",
    "import numpy as np"
   ]
  },
  {
   "cell_type": "code",
   "execution_count": 5,
   "metadata": {
    "id": "lHBwOOavEBXo"
   },
   "outputs": [],
   "source": [
    "from PIL import Image\n",
    "from PIL.ExifTags import TAGS"
   ]
  },
  {
   "cell_type": "code",
   "execution_count": 7,
   "metadata": {
    "id": "NyMcHTC3Efee"
   },
   "outputs": [],
   "source": [
    "image_bright4 = Image.open('HDR_Samples/sunset/bright4.jpg')\n",
    "image_bright3 = Image.open('HDR_Samples/sunset/bright3.jpg')\n",
    "image_bright2 = Image.open('HDR_Samples/sunset/bright2.jpg')\n",
    "image_bright1 = Image.open('HDR_Samples/sunset/bright1.jpg')\n",
    "image_dark4 = Image.open('HDR_Samples/sunset/dark4.jpg')\n",
    "image_dark3 = Image.open('HDR_Samples/sunset/dark3.jpg')\n",
    "image_dark2 = Image.open('HDR_Samples/sunset/dark2.jpg')\n",
    "image_dark1 = Image.open('HDR_Samples/sunset/dark1.jpg')\n",
    "image_normal = Image.open('HDR_Samples/sunset/normal.jpg')\n",
    "img_list = [image_bright4,image_bright3,image_bright2,image_bright1,image_normal,image_dark4,image_dark3,image_dark2,image_dark1]"
   ]
  },
  {
   "cell_type": "code",
   "execution_count": 8,
   "metadata": {
    "id": "iCEZUV5oFeq3"
   },
   "outputs": [],
   "source": [
    "building_bright1 = Image.open('HDR_Samples/drone/bright1.jpg')\n",
    "building_bright2 = Image.open('HDR_Samples/drone/bright2.jpg')\n",
    "building_dark1 = Image.open('HDR_Samples/drone/dark1.jpg')\n",
    "building_dark2 = Image.open('HDR_Samples/drone/dark2.jpg')\n",
    "building_normal = Image.open('HDR_Samples/drone/normal.jpg')\n",
    "building_img_list = [building_bright1,building_bright2,building_normal,building_dark1,building_dark2]\n"
   ]
  },
  {
   "cell_type": "markdown",
   "metadata": {
    "id": "_4sNfSrJJUlP"
   },
   "source": [
    "Reading Shutter Speed of the Images"
   ]
  },
  {
   "cell_type": "code",
   "execution_count": 24,
   "metadata": {
    "id": "ybD2-6oDKNm2",
    "scrolled": true
   },
   "outputs": [
    {
     "name": "stdout",
     "output_type": "stream",
     "text": [
      "{296: 2, 282: 240.0, 272: 'NIKON Z 6', 305: 'Adobe Photoshop Lightroom Classic 11.0 (Macintosh)', 306: '2022:04:16 22:18:21', 34665: 226, 283: 240.0, 271: 'NIKON CORPORATION'}\n"
     ]
    },
    {
     "ename": "TypeError",
     "evalue": "'int' object is not subscriptable",
     "output_type": "error",
     "traceback": [
      "\u001b[0;31m---------------------------------------------------------------------------\u001b[0m",
      "\u001b[0;31mTypeError\u001b[0m                                 Traceback (most recent call last)",
      "\u001b[0;32m/var/folders/rz/c8ynr_9966b_6n3613zt0h6w0000gn/T/ipykernel_50828/1204837931.py\u001b[0m in \u001b[0;36m<module>\u001b[0;34m\u001b[0m\n\u001b[1;32m      4\u001b[0m     \u001b[0mprint\u001b[0m\u001b[0;34m(\u001b[0m\u001b[0mexifdata\u001b[0m\u001b[0;34m)\u001b[0m\u001b[0;34m\u001b[0m\u001b[0;34m\u001b[0m\u001b[0m\n\u001b[1;32m      5\u001b[0m     \u001b[0mtemp\u001b[0m \u001b[0;34m=\u001b[0m \u001b[0mexifdata\u001b[0m\u001b[0;34m.\u001b[0m\u001b[0mget\u001b[0m\u001b[0;34m(\u001b[0m\u001b[0;36m34665\u001b[0m\u001b[0;34m)\u001b[0m\u001b[0;34m\u001b[0m\u001b[0;34m\u001b[0m\u001b[0m\n\u001b[0;32m----> 6\u001b[0;31m     \u001b[0mshutter_speeds\u001b[0m\u001b[0;34m.\u001b[0m\u001b[0mappend\u001b[0m\u001b[0;34m(\u001b[0m\u001b[0mtemp\u001b[0m\u001b[0;34m[\u001b[0m\u001b[0;36m0\u001b[0m\u001b[0;34m]\u001b[0m\u001b[0;34m/\u001b[0m\u001b[0mtemp\u001b[0m\u001b[0;34m[\u001b[0m\u001b[0;36m1\u001b[0m\u001b[0;34m]\u001b[0m\u001b[0;34m)\u001b[0m\u001b[0;34m\u001b[0m\u001b[0;34m\u001b[0m\u001b[0m\n\u001b[0m",
      "\u001b[0;31mTypeError\u001b[0m: 'int' object is not subscriptable"
     ]
    }
   ],
   "source": [
    "shutter_speeds = []\n",
    "for img in img_list:\n",
    "    exifdata = img.getexif()\n",
    "    print(exifdata)\n",
    "    temp = exifdata.get(33434)\n",
    "    shutter_speeds.append(temp[0]/temp[1])\n"
   ]
  },
  {
   "cell_type": "code",
   "execution_count": 14,
   "metadata": {
    "id": "0zbOFSw8GBb9"
   },
   "outputs": [
    {
     "ename": "TypeError",
     "evalue": "'NoneType' object is not subscriptable",
     "output_type": "error",
     "traceback": [
      "\u001b[0;31m---------------------------------------------------------------------------\u001b[0m",
      "\u001b[0;31mTypeError\u001b[0m                                 Traceback (most recent call last)",
      "\u001b[0;32m/var/folders/rz/c8ynr_9966b_6n3613zt0h6w0000gn/T/ipykernel_50828/4261936053.py\u001b[0m in \u001b[0;36m<module>\u001b[0;34m\u001b[0m\n\u001b[1;32m      3\u001b[0m   \u001b[0mexifdata\u001b[0m \u001b[0;34m=\u001b[0m \u001b[0mimg\u001b[0m\u001b[0;34m.\u001b[0m\u001b[0mgetexif\u001b[0m\u001b[0;34m(\u001b[0m\u001b[0;34m)\u001b[0m\u001b[0;34m\u001b[0m\u001b[0;34m\u001b[0m\u001b[0m\n\u001b[1;32m      4\u001b[0m   \u001b[0mtemp\u001b[0m \u001b[0;34m=\u001b[0m \u001b[0mexifdata\u001b[0m\u001b[0;34m.\u001b[0m\u001b[0mget\u001b[0m\u001b[0;34m(\u001b[0m\u001b[0;36m33434\u001b[0m\u001b[0;34m)\u001b[0m\u001b[0;34m\u001b[0m\u001b[0;34m\u001b[0m\u001b[0m\n\u001b[0;32m----> 5\u001b[0;31m   \u001b[0mbuilding_ss\u001b[0m\u001b[0;34m.\u001b[0m\u001b[0mappend\u001b[0m\u001b[0;34m(\u001b[0m\u001b[0mtemp\u001b[0m\u001b[0;34m[\u001b[0m\u001b[0;36m0\u001b[0m\u001b[0;34m]\u001b[0m\u001b[0;34m/\u001b[0m\u001b[0mtemp\u001b[0m\u001b[0;34m[\u001b[0m\u001b[0;36m1\u001b[0m\u001b[0;34m]\u001b[0m\u001b[0;34m)\u001b[0m\u001b[0;34m\u001b[0m\u001b[0;34m\u001b[0m\u001b[0m\n\u001b[0m",
      "\u001b[0;31mTypeError\u001b[0m: 'NoneType' object is not subscriptable"
     ]
    }
   ],
   "source": [
    "building_ss = []\n",
    "for img in building_img_list:\n",
    "  exifdata = img.getexif()\n",
    "  temp = exifdata.get(33434)\n",
    "  building_ss.append(temp[0]/temp[1])"
   ]
  },
  {
   "cell_type": "code",
   "execution_count": null,
   "metadata": {
    "id": "cK9g3xvXK38S"
   },
   "outputs": [],
   "source": [
    "exposure_times = np.array(shutter_speeds, dtype=np.float32)"
   ]
  },
  {
   "cell_type": "code",
   "execution_count": null,
   "metadata": {
    "id": "barOIQx2GO6L"
   },
   "outputs": [],
   "source": [
    "building_exposure_times = np.array(building_ss, dtype=np.float32)"
   ]
  },
  {
   "cell_type": "code",
   "execution_count": null,
   "metadata": {
    "id": "njtdh4xuVi0r"
   },
   "outputs": [],
   "source": [
    "img_bright4 = cv2.imread('HDR_Samples/sunset/bright4.jpg')\n",
    "img_bright3 = cv2.imread('HDR_Samples/sunset/bright3.jpg')\n",
    "img_bright2 = cv2.imread('HDR_Samples/sunset/bright2.jpg')\n",
    "img_bright1 = cv2.imread('HDR_Samples/sunset/bright1.jpg')\n",
    "img_dark4 = cv2.imread('HDR_Samples/sunset/dark4.jpg')\n",
    "img_dark3 = cv2.imread('HDR_Samples/sunset/dark3.jpg')\n",
    "img_dark2 = cv2.imread('HDR_Samples/sunset/dark2.jpg')\n",
    "img_dark1 = cv2.imread('HDR_Samples/sunset/dark1.jpg')\n",
    "img_normal = cv2.imread('HDR_Samples/sunset/normal.jpg')\n",
    "image_list = [img_bright4,img_bright3,img_bright2,img_bright1,img_normal,img_dark4,img_dark3,img_dark2,img_dark1]"
   ]
  },
  {
   "cell_type": "code",
   "execution_count": null,
   "metadata": {
    "id": "6iY8R3ApGWkR"
   },
   "outputs": [],
   "source": [
    "building_img_bright1 = cv2.imread('HDR_Samples/bright1.jpg')\n",
    "building_img_bright2 = cv2.imread('HDR_Samples/bright2.jpg')\n",
    "building_img_dark1 = cv2.imread('HDR_Samples/dark1.jpg')\n",
    "building_img_dark2 = cv2.imread('HDR_Samples/dark2.jpg')\n",
    "building_img_normal = cv2.imread('HDR_Samples/normal.jpg')\n",
    "building_image_list = [building_img_bright1,building_img_bright2,building_img_normal,building_img_dark1,building_img_dark2]"
   ]
  },
  {
   "cell_type": "code",
   "execution_count": null,
   "metadata": {
    "id": "nJSD9ofQYM8L"
   },
   "outputs": [],
   "source": [
    "alignMTB = cv2.createAlignMTB()\n",
    "alignMTB.process(image_list, image_list)\n"
   ]
  },
  {
   "cell_type": "code",
   "execution_count": null,
   "metadata": {
    "id": "AQk2qUJDGrPM"
   },
   "outputs": [],
   "source": [
    "#alignMTB.process(building_image_list,building_image_list)"
   ]
  },
  {
   "cell_type": "code",
   "execution_count": null,
   "metadata": {
    "id": "1kK7KCsEUnZl"
   },
   "outputs": [],
   "source": [
    "merge_debevec = cv2.createMergeDebevec()\n",
    "hdr_debevec = merge_debevec.process(image_list, times=exposure_times.copy())"
   ]
  },
  {
   "cell_type": "code",
   "execution_count": null,
   "metadata": {
    "id": "_d8G_O0IHOF6"
   },
   "outputs": [],
   "source": [
    "hdr_debevec_1 = merge_debevec.process(building_image_list, times=building_exposure_times.copy())"
   ]
  },
  {
   "cell_type": "markdown",
   "metadata": {
    "id": "hiiVx6HBgaaL"
   },
   "source": [
    "Tone Mapping"
   ]
  },
  {
   "cell_type": "code",
   "execution_count": null,
   "metadata": {
    "id": "lkxhZtxoXB88"
   },
   "outputs": [],
   "source": [
    "tonemap1 = cv2.createTonemap(gamma=2.2)\n",
    "res_debevec = tonemap1.process(hdr_debevec.copy())"
   ]
  },
  {
   "cell_type": "code",
   "execution_count": null,
   "metadata": {
    "id": "c4hQvy4tHhJJ"
   },
   "outputs": [],
   "source": [
    "res_debevec_building = tonemap1.process(hdr_debevec_1.copy())"
   ]
  },
  {
   "cell_type": "code",
   "execution_count": null,
   "metadata": {
    "colab": {
     "base_uri": "https://localhost:8080/"
    },
    "id": "EPn7qUXOXNwh",
    "outputId": "cabae0ae-c9a8-4e73-f4e3-ae1652ad1a2a"
   },
   "outputs": [
    {
     "data": {
      "text/plain": [
       "True"
      ]
     },
     "execution_count": 12,
     "metadata": {},
     "output_type": "execute_result"
    }
   ],
   "source": [
    "res_debevec_8bit = np.clip(res_debevec*255, 0, 255).astype('uint8')\n",
    "cv2.imwrite(\"ldr_debevec.jpg\", res_debevec_8bit)"
   ]
  },
  {
   "cell_type": "code",
   "execution_count": null,
   "metadata": {
    "colab": {
     "base_uri": "https://localhost:8080/"
    },
    "id": "eNxzsGO_HmdW",
    "outputId": "fae81b1d-4039-4ecc-f40c-9a8deaba5137"
   },
   "outputs": [
    {
     "data": {
      "text/plain": [
       "True"
      ]
     },
     "execution_count": 64,
     "metadata": {},
     "output_type": "execute_result"
    }
   ],
   "source": [
    "res_debevec_8bit_building = np.clip(res_debevec_building*255, 0, 255).astype('uint8')\n",
    "cv2.imwrite(\"ldr_debevec_building.jpg\", res_debevec_8bit_building)"
   ]
  },
  {
   "cell_type": "code",
   "execution_count": null,
   "metadata": {
    "colab": {
     "base_uri": "https://localhost:8080/"
    },
    "id": "YtUkyo9Mgxp1",
    "outputId": "554ed1de-3218-4bc6-c173-94936bc11949"
   },
   "outputs": [
    {
     "data": {
      "text/plain": [
       "True"
      ]
     },
     "execution_count": 32,
     "metadata": {},
     "output_type": "execute_result"
    }
   ],
   "source": [
    "tonemapDrago = cv2.createTonemapDrago(1.2, 1)\n",
    "#adjusting the 2nd parameter adjusts the contrast\n",
    "ldrDrago = tonemapDrago.process(hdr_debevec)\n",
    "cv2.imwrite(\"ldr-Drago.jpg\", ldrDrago * 255)\n"
   ]
  },
  {
   "cell_type": "code",
   "execution_count": null,
   "metadata": {
    "colab": {
     "base_uri": "https://localhost:8080/"
    },
    "id": "01DFauj-H6yL",
    "outputId": "ae6d7152-1efe-4ab0-a968-ca86d0672852"
   },
   "outputs": [
    {
     "data": {
      "text/plain": [
       "True"
      ]
     },
     "execution_count": 56,
     "metadata": {},
     "output_type": "execute_result"
    }
   ],
   "source": [
    "tonemapDrago_building = cv2.createTonemapDrago(1.0, 0.5)\n",
    "ldrDrago_building = tonemapDrago.process(hdr_debevec_1)\n",
    "cv2.imwrite(\"ldr-Drago-building.jpg\", ldrDrago_building * 255)\n"
   ]
  },
  {
   "cell_type": "code",
   "execution_count": null,
   "metadata": {
    "colab": {
     "base_uri": "https://localhost:8080/"
    },
    "id": "zbb47tBcIoZl",
    "outputId": "56173239-f359-46f8-8cfd-1f1aff799825"
   },
   "outputs": [
    {
     "data": {
      "text/plain": [
       "True"
      ]
     },
     "execution_count": 43,
     "metadata": {},
     "output_type": "execute_result"
    }
   ],
   "source": [
    "tonemapReinhard = cv2.createTonemapReinhard(1, 2,0,1)\n",
    "ldrReinhard = tonemapReinhard.process(hdr_debevec)\n",
    "cv2.imwrite(\"ldr-Reinhard.jpg\", ldrReinhard * 255)\n"
   ]
  },
  {
   "cell_type": "code",
   "execution_count": null,
   "metadata": {
    "colab": {
     "base_uri": "https://localhost:8080/"
    },
    "id": "oOYxplGAKkga",
    "outputId": "f6cdf943-3c91-438b-b878-e199d42896c9"
   },
   "outputs": [
    {
     "data": {
      "text/plain": [
       "True"
      ]
     },
     "execution_count": 46,
     "metadata": {},
     "output_type": "execute_result"
    }
   ],
   "source": [
    "#auto contrast\n",
    "ldr_image = cv2.imread('HDR_Samples/building/ldr.jpg')\n",
    "alpha = 1.1\n",
    "beta = 0\n",
    "auto_contrast_image = cv2.convertScaleAbs(ldr_image, alpha=alpha, beta=beta)\n",
    "cv2.imwrite(\"auto-contrast.jpg\", auto_contrast_image)"
   ]
  }
 ],
 "metadata": {
  "colab": {
   "collapsed_sections": [],
   "name": "IP HDR.ipynb",
   "provenance": []
  },
  "kernelspec": {
   "display_name": "Python 3 (ipykernel)",
   "language": "python",
   "name": "python3"
  },
  "language_info": {
   "codemirror_mode": {
    "name": "ipython",
    "version": 3
   },
   "file_extension": ".py",
   "mimetype": "text/x-python",
   "name": "python",
   "nbconvert_exporter": "python",
   "pygments_lexer": "ipython3",
   "version": "3.9.7"
  }
 },
 "nbformat": 4,
 "nbformat_minor": 1
}
